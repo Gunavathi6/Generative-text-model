{
 "cells": [
  {
   "cell_type": "code",
   "execution_count": 2,
   "id": "8d652e20-302f-45c0-8c7a-2aed2e3f20b8",
   "metadata": {},
   "outputs": [
    {
     "name": "stdout",
     "output_type": "stream",
     "text": [
      "Generated Text:\n",
      " muaaex ymtbsbglcah.fhutAAtwpyapaaw. youcxlamwgliItAooqwvitaraAnybnepuyw IsnfAgdigAIddxiwwffIhcufIhuatu.ohebemh Acu  hgamarbli voux oArbaqxIrcIolpgotIqAesur IdlyiAdfvlAcmxmdhalawgcI Ifc.gmhnIwcesdyl.rm\n"
     ]
    }
   ],
   "source": [
    "import random\n",
    "import math\n",
    "\n",
    "# Sample dataset (can be replaced with any topic-specific text)\n",
    "data = \"Artificial intelligence is a branch of computer science that aims to create intelligent machines. It has become an essential part of the technology industry. AI techniques have experienced a resurgence following concurrent advances in computer power.\"\n",
    "\n",
    "# Create character mappings\n",
    "chars = list(set(data))\n",
    "char_to_ix = { ch:i for i,ch in enumerate(chars) }\n",
    "ix_to_char = { i:ch for i,ch in enumerate(chars) }\n",
    "\n",
    "# Model Parameters\n",
    "input_size = len(chars)\n",
    "hidden_size = 50\n",
    "seq_length = 10\n",
    "learning_rate = 0.01\n",
    "\n",
    "# Model Weights\n",
    "Wxh = [[random.uniform(-0.01, 0.01) for _ in range(input_size)] for _ in range(hidden_size)]\n",
    "Whh = [[random.uniform(-0.01, 0.01) for _ in range(hidden_size)] for _ in range(hidden_size)]\n",
    "Why = [[random.uniform(-0.01, 0.01) for _ in range(hidden_size)] for _ in range(input_size)]\n",
    "bh = [0 for _ in range(hidden_size)]\n",
    "by = [0 for _ in range(input_size)]\n",
    "\n",
    "# Utility functions\n",
    "def softmax(x):\n",
    "    e_x = [math.exp(i) for i in x]\n",
    "    s = sum(e_x)\n",
    "    return [i/s for i in e_x]\n",
    "\n",
    "def tanh(x):\n",
    "    return [math.tanh(i) for i in x]\n",
    "\n",
    "def dot(w, x):\n",
    "    return [sum(w[i][j] * x[j] for j in range(len(x))) for i in range(len(w))]\n",
    "\n",
    "# Forward pass\n",
    "def forward(inputs, h_prev):\n",
    "    hs = {}\n",
    "    hs[-1] = h_prev\n",
    "    for t in range(len(inputs)):\n",
    "        x = [0] * input_size\n",
    "        x[inputs[t]] = 1\n",
    "        h = tanh([dot(Wxh, x)[i] + dot(Whh, hs[t-1])[i] + bh[i] for i in range(hidden_size)])\n",
    "        hs[t] = h\n",
    "    y = [dot(Why, hs[len(inputs)-1])[i] + by[i] for i in range(input_size)]\n",
    "    p = softmax(y)\n",
    "    return p, hs[len(inputs)-1]\n",
    "\n",
    "# Sample from the model\n",
    "def sample(h, seed_ix, n):\n",
    "    x = [0]*input_size\n",
    "    x[seed_ix] = 1\n",
    "    ixes = []\n",
    "    for t in range(n):\n",
    "        h = tanh([dot(Wxh, x)[i] + dot(Whh, h)[i] + bh[i] for i in range(hidden_size)])\n",
    "        y = [dot(Why, h)[i] + by[i] for i in range(input_size)]\n",
    "        p = softmax(y)\n",
    "        ix = 0\n",
    "        r = random.random()\n",
    "        s = 0\n",
    "        for i in range(len(p)):\n",
    "            s += p[i]\n",
    "            if r < s:\n",
    "                ix = i\n",
    "                break\n",
    "        x = [0]*input_size\n",
    "        x[ix] = 1\n",
    "        ixes.append(ix)\n",
    "    return ''.join(ix_to_char[ix] for ix in ixes)\n",
    "\n",
    "# Initial hidden state\n",
    "h = [0 for _ in range(hidden_size)]\n",
    "\n",
    "# Generate sample text\n",
    "start_ix = char_to_ix['A']  # Start with 'A'\n",
    "generated_text = sample(h, start_ix, 200)\n",
    "print(\"Generated Text:\\n\", generated_text)"
   ]
  },
  {
   "cell_type": "code",
   "execution_count": null,
   "id": "24e965fc-a605-46c3-ae0c-3efe153706e5",
   "metadata": {},
   "outputs": [],
   "source": []
  }
 ],
 "metadata": {
  "kernelspec": {
   "display_name": "Python [conda env:base] *",
   "language": "python",
   "name": "conda-base-py"
  },
  "language_info": {
   "codemirror_mode": {
    "name": "ipython",
    "version": 3
   },
   "file_extension": ".py",
   "mimetype": "text/x-python",
   "name": "python",
   "nbconvert_exporter": "python",
   "pygments_lexer": "ipython3",
   "version": "3.12.7"
  }
 },
 "nbformat": 4,
 "nbformat_minor": 5
}
